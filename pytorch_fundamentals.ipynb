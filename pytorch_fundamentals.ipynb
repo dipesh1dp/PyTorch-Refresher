{
 "cells": [
  {
   "cell_type": "markdown",
   "id": "7549444c-c8f6-491a-94ef-09d3b8f29147",
   "metadata": {},
   "source": [
    "# PyTorch"
   ]
  },
  {
   "cell_type": "markdown",
   "id": "b9a29391-d5bd-4331-8d34-b3bdf96dab8d",
   "metadata": {},
   "source": [
    "### Importing Libraries"
   ]
  },
  {
   "cell_type": "code",
   "execution_count": 1,
   "id": "27429071-89a5-47f7-a4ae-ab83e62277b3",
   "metadata": {},
   "outputs": [],
   "source": [
    "import numpy as np\n",
    "import pandas as pd\n",
    "import matplotlib.pyplot as plt\n",
    "import torch"
   ]
  },
  {
   "cell_type": "markdown",
   "id": "b6565801-204f-475b-99ba-ebfc7839447e",
   "metadata": {},
   "source": [
    "### Generating Tensors "
   ]
  },
  {
   "cell_type": "code",
   "execution_count": 2,
   "id": "d441794a-735b-4a05-b0af-3b83ad932104",
   "metadata": {},
   "outputs": [
    {
     "name": "stdout",
     "output_type": "stream",
     "text": [
      "tensor(5)\n"
     ]
    }
   ],
   "source": [
    "# scalars have zero dimension\n",
    "scalar = torch.tensor(5)\n",
    "print(scalar)"
   ]
  },
  {
   "cell_type": "code",
   "execution_count": 3,
   "id": "a1f150c5-beab-4bdb-b29b-b0d921814efc",
   "metadata": {},
   "outputs": [
    {
     "data": {
      "text/plain": [
       "(tensor([2, 3]), tensor([0.6183, 0.4311]), 1)"
      ]
     },
     "execution_count": 3,
     "metadata": {},
     "output_type": "execute_result"
    }
   ],
   "source": [
    "# one dimensional tensor\n",
    "vector = torch.tensor([2,3])\n",
    "random_vec = torch.rand(2)\n",
    "vector, random_vec, vector.ndim"
   ]
  },
  {
   "cell_type": "code",
   "execution_count": 4,
   "id": "fb6dfcf1-d637-4958-82eb-3fb87bc62071",
   "metadata": {},
   "outputs": [
    {
     "data": {
      "text/plain": [
       "(tensor([[2, 3, 4],\n",
       "         [5, 6, 7]]),\n",
       " tensor([[0.4168, 0.5332, 0.7898],\n",
       "         [0.0479, 0.6043, 0.7006]]))"
      ]
     },
     "execution_count": 4,
     "metadata": {},
     "output_type": "execute_result"
    }
   ],
   "source": [
    "# three dimensional tensor\n",
    "matrix = torch.tensor([[2,3,4], [5,6,7]])\n",
    "random_mat = torch.rand(2,3)\n",
    "matrix, random_mat"
   ]
  },
  {
   "cell_type": "code",
   "execution_count": 5,
   "id": "568abb6a-2e57-4ece-b9da-92e3d02aa99e",
   "metadata": {},
   "outputs": [
    {
     "data": {
      "text/plain": [
       "tensor([[1, 2, 3],\n",
       "        [4, 5, 6],\n",
       "        [7, 8, 9]])"
      ]
     },
     "execution_count": 5,
     "metadata": {},
     "output_type": "execute_result"
    }
   ],
   "source": [
    "one_to_5 = torch.arange(1, 10).reshape(3,3)\n",
    "one_to_5"
   ]
  },
  {
   "cell_type": "code",
   "execution_count": 6,
   "id": "a2b52425-0a6f-406d-98f6-3e9ce835a040",
   "metadata": {},
   "outputs": [
    {
     "data": {
      "text/plain": [
       "(tensor([[0, 0, 0],\n",
       "         [0, 0, 0],\n",
       "         [0, 0, 0]]),\n",
       " tensor([[1, 1, 1],\n",
       "         [1, 1, 1],\n",
       "         [1, 1, 1]]))"
      ]
     },
     "execution_count": 6,
     "metadata": {},
     "output_type": "execute_result"
    }
   ],
   "source": [
    "five_zeros = torch.zeros_like(one_to_5)\n",
    "five_ones = torch.ones_like(one_to_5)\n",
    "five_zeros, five_ones"
   ]
  },
  {
   "cell_type": "markdown",
   "id": "575983d9-e162-4283-a842-7258a5186a4c",
   "metadata": {},
   "source": [
    "### Tensor Data Types\n",
    "**Note**: Tensor datatypes is one of the 3 big errors encountered in PyTorch and Deep Learning <br>\n",
    "1. Tensors not right datatype\n",
    "2. Tensors not right shape\n",
    "3. Tensors not on right device"
   ]
  },
  {
   "cell_type": "code",
   "execution_count": 7,
   "id": "02b70df4-c51a-421c-b128-4b19808d27d7",
   "metadata": {},
   "outputs": [
    {
     "name": "stdout",
     "output_type": "stream",
     "text": [
      "tensor([2., 3., 4., 5.]) torch.float32\n",
      "tensor([2., 3., 4., 5.], dtype=torch.float16) torch.float16\n"
     ]
    },
    {
     "data": {
      "text/plain": [
       "tensor([ 4.,  9., 16., 25.])"
      ]
     },
     "execution_count": 7,
     "metadata": {},
     "output_type": "execute_result"
    }
   ],
   "source": [
    "# creating a float32 tensor\n",
    "float_32_tensor = torch.tensor([2.0, 3, 4, 5.0], dtype=torch.float32, device=None, requires_grad=False)\n",
    "print(float_32_tensor, float_32_tensor.dtype)\n",
    "\n",
    "#creating a float16 tensor\n",
    "float_16_tensor = torch.tensor([2.0, 3, 4, 5.0], dtype=torch.float16, device=None, requires_grad=False)\n",
    "print(float_16_tensor, float_16_tensor.dtype)\n",
    "\n",
    "# mutliplying diff dtype tensors\n",
    "float_32_tensor * float_16_tensor "
   ]
  },
  {
   "cell_type": "markdown",
   "id": "fa5a29af-2920-4acd-8585-48fc09f3c598",
   "metadata": {},
   "source": [
    "### Manipulating Tensors\n",
    "- Addition `torch.add()`\n",
    "- Subraction `torch.sub()`\n",
    "- Multiplication (element-wise) `torch.mul()`\n",
    "- Division `torch.div()`\n",
    "- Matrix Multiplication `torhc.matmul()`\n",
    "\n",
    "**Types of Operation:**\n",
    "- Inplace Operarion\n",
    "- Out-of-place operation"
   ]
  },
  {
   "cell_type": "code",
   "execution_count": 8,
   "id": "a8253846-72b2-42a0-8f09-9cc682f4c136",
   "metadata": {},
   "outputs": [
    {
     "name": "stdout",
     "output_type": "stream",
     "text": [
      "tensor([2, 3, 4, 5, 6])\n",
      "tensor([5, 6, 7, 8, 9])\n",
      "tensor([5, 6, 7, 8, 9])\n",
      "tensor([3, 4, 5, 6, 7])\n"
     ]
    }
   ],
   "source": [
    "# Addition\n",
    "some_tensor = torch.tensor([2,3,4,5,6])\n",
    "some_tensor2 = torch.tensor([1,1,1,1,1])\n",
    "print(some_tensor)\n",
    "print(some_tensor + 3)  # broadcasting \n",
    "print(torch.add(some_tensor, 3))\n",
    "print(torch.add(some_tensor, some_tensor2))\n",
    "\n"
   ]
  },
  {
   "cell_type": "code",
   "execution_count": 9,
   "id": "6c32ff01-6a25-48b7-b2d4-1faa78db4f03",
   "metadata": {},
   "outputs": [
    {
     "name": "stdout",
     "output_type": "stream",
     "text": [
      "tensor([1, 2, 3, 4, 5])\n",
      "tensor([1, 2, 3, 4, 5])\n",
      "tensor([1, 2, 3, 4, 5])\n"
     ]
    },
    {
     "data": {
      "text/plain": [
       "<function torch._VariableFunctionsClass.sub>"
      ]
     },
     "execution_count": 9,
     "metadata": {},
     "output_type": "execute_result"
    }
   ],
   "source": [
    "# subraction\n",
    "print(some_tensor - 1)\n",
    "print(torch.sub(some_tensor, 1))\n",
    "print(torch.sub(some_tensor, some_tensor2))\n",
    "torch.sub"
   ]
  },
  {
   "cell_type": "code",
   "execution_count": 10,
   "id": "4ff51fb2-beae-4219-ac75-ea69c85ce882",
   "metadata": {},
   "outputs": [
    {
     "name": "stdout",
     "output_type": "stream",
     "text": [
      "tensor([ 4,  6,  8, 10, 12])\n",
      "tensor([ 4,  6,  8, 10, 12])\n",
      "tensor(20)\n"
     ]
    }
   ],
   "source": [
    "# multiplication \n",
    "print(some_tensor * 2) # broadcasting\n",
    "print(torch.multiply(some_tensor, 2))  # # broadcasting\n",
    "print(torch.matmul(some_tensor, some_tensor2))  # matmul --> dot product"
   ]
  },
  {
   "cell_type": "code",
   "execution_count": 11,
   "id": "20671855-970b-4a25-b3dd-61be862ecdb0",
   "metadata": {},
   "outputs": [
    {
     "name": "stdout",
     "output_type": "stream",
     "text": [
      "matrix_1: \n",
      "tensor([[1, 2],\n",
      "        [3, 4]])\n",
      "matrix_2: \n",
      "tensor([[5, 6],\n",
      "        [7, 8]])\n",
      "Element-wise Product:\n",
      "tensor([[ 5, 12],\n",
      "        [21, 32]])\n",
      "Dot Product with matmul:\n",
      "tensor([[19, 22],\n",
      "        [43, 50]])\n",
      "Dot Product with Mat A @ Mat B: \n",
      "tensor([[19, 22],\n",
      "        [43, 50]])\n"
     ]
    }
   ],
   "source": [
    "# multiplication in higher dimensions\n",
    "some_matrix1 = torch.arange(1,5).reshape(2,2)\n",
    "some_matrix2 = torch.arange(5,9).reshape(2,2)\n",
    "\n",
    "print(f'matrix_1: \\n{some_matrix1}\\nmatrix_2: \\n{some_matrix2}')\n",
    "print(f'Element-wise Product:\\n{torch.mul(some_matrix1, some_matrix2)}')\n",
    "print(f'Dot Product with matmul:\\n{torch.matmul(some_matrix1, some_matrix2)}')\n",
    "print(f'Dot Product with Mat A @ Mat B: \\n{some_matrix1 @ some_matrix2}')"
   ]
  },
  {
   "cell_type": "code",
   "execution_count": 12,
   "id": "fed58098-cb14-4f31-8f47-2d3114cc5db1",
   "metadata": {},
   "outputs": [
    {
     "data": {
      "text/plain": [
       "tensor([3, 4, 5, 6, 7])"
      ]
     },
     "execution_count": 12,
     "metadata": {},
     "output_type": "execute_result"
    }
   ],
   "source": [
    "# Inplace operation\n",
    "some_tensor2.add_(some_tensor)"
   ]
  },
  {
   "cell_type": "markdown",
   "id": "07e71b1b-84dd-49d2-9f08-18a4f3e92f0e",
   "metadata": {},
   "source": [
    "### Tensor Aggregation (finding min, max, sum, etc)"
   ]
  },
  {
   "cell_type": "code",
   "execution_count": 13,
   "id": "e46f4f1c-d403-4fc1-8cd4-ea25a440ccca",
   "metadata": {},
   "outputs": [
    {
     "data": {
      "text/plain": [
       "(tensor(4), tensor(4))"
      ]
     },
     "execution_count": 13,
     "metadata": {},
     "output_type": "execute_result"
    }
   ],
   "source": [
    "# finding max\n",
    "torch.max(some_matrix1), some_matrix1.max()"
   ]
  },
  {
   "cell_type": "code",
   "execution_count": 14,
   "id": "08be5019-5051-43ee-83d8-535369669cd5",
   "metadata": {},
   "outputs": [
    {
     "data": {
      "text/plain": [
       "(tensor(1), tensor(1))"
      ]
     },
     "execution_count": 14,
     "metadata": {},
     "output_type": "execute_result"
    }
   ],
   "source": [
    "# Finding min\n",
    "torch.min(some_matrix1), some_matrix1.min()"
   ]
  },
  {
   "cell_type": "code",
   "execution_count": 17,
   "id": "d430281e-734c-4b9e-98a1-a37755dea348",
   "metadata": {},
   "outputs": [
    {
     "data": {
      "text/plain": [
       "(tensor(2.5000), tensor(6.5000))"
      ]
     },
     "execution_count": 17,
     "metadata": {},
     "output_type": "execute_result"
    }
   ],
   "source": [
    "# for finding mean you need to change the type as it doesn't support long dtype\n",
    "torch.mean(some_matrix1.type(torch.float32)), torch.mean(some_matrix2.type(torch.float32))\n"
   ]
  },
  {
   "cell_type": "code",
   "execution_count": 19,
   "id": "d439d572-5292-4692-87d8-167343c9b9eb",
   "metadata": {},
   "outputs": [
    {
     "data": {
      "text/plain": [
       "(tensor(10), tensor(10))"
      ]
     },
     "execution_count": 19,
     "metadata": {},
     "output_type": "execute_result"
    }
   ],
   "source": [
    "# Finding sum\n",
    "torch.sum(some_matrix1), some_matrix1.sum()"
   ]
  },
  {
   "cell_type": "markdown",
   "id": "d9984a76-d519-4a31-bf3a-7bab5a2736b7",
   "metadata": {},
   "source": [
    "### Finding positional min, max"
   ]
  },
  {
   "cell_type": "code",
   "execution_count": 24,
   "id": "3585d02c-d736-418a-ba69-5ff9363dfaf1",
   "metadata": {},
   "outputs": [
    {
     "name": "stdout",
     "output_type": "stream",
     "text": [
      "tensor([[1, 2],\n",
      "        [3, 4]]), \n",
      "tensor([[5, 6],\n",
      "        [7, 8]])\n",
      "tensor(0) tensor(0)\n",
      "tensor(3) tensor(3)\n"
     ]
    }
   ],
   "source": [
    "print(f'{some_matrix1}, \\n{some_matrix2}')\n",
    "print(some_matrix1.argmin(), some_matrix2.argmin())\n",
    "print(some_matrix1.argmax(), some_matrix2.argmax())"
   ]
  },
  {
   "cell_type": "markdown",
   "id": "3cab1183-306b-43a7-8324-70b56dab32f9",
   "metadata": {},
   "source": [
    "### Reshaping, stacking, squeezing & unsqueezing tensors\n",
    "* Reshape - reshapes an input tensor into the defined shape `.reshape`\n",
    "* View - returns a view of the input tensor into the defined shape but keeps the memory of original tensor `view`\n",
    "* Stacking - combines multiple tensor on top of each other `vstack` or side by side `hstack`\n",
    "* Squeezing - removes all `1` dimensions from a tensor\n",
    "* Unsqueezing - add a `1`dimension to the target tensor\n",
    "* Permute - return a view of the input tensor with dimensions permuted (swapped) in a certain way"
   ]
  },
  {
   "cell_type": "code",
   "execution_count": null,
   "id": "8150c522-32b0-4732-8ad5-a1f5c85555e9",
   "metadata": {},
   "outputs": [],
   "source": []
  }
 ],
 "metadata": {
  "kernelspec": {
   "display_name": "Python 3 (ipykernel)",
   "language": "python",
   "name": "python3"
  },
  "language_info": {
   "codemirror_mode": {
    "name": "ipython",
    "version": 3
   },
   "file_extension": ".py",
   "mimetype": "text/x-python",
   "name": "python",
   "nbconvert_exporter": "python",
   "pygments_lexer": "ipython3",
   "version": "3.12.3"
  }
 },
 "nbformat": 4,
 "nbformat_minor": 5
}
