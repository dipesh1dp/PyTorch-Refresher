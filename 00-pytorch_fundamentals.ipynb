{
 "cells": [
  {
   "cell_type": "markdown",
   "id": "7549444c-c8f6-491a-94ef-09d3b8f29147",
   "metadata": {},
   "source": [
    "# PyTorch Fundamentals\n",
    "This notebook covers the fundamentals of PyTorch. "
   ]
  },
  {
   "cell_type": "markdown",
   "id": "b9a29391-d5bd-4331-8d34-b3bdf96dab8d",
   "metadata": {},
   "source": [
    "### Importing Libraries"
   ]
  },
  {
   "cell_type": "code",
   "execution_count": 1,
   "id": "27429071-89a5-47f7-a4ae-ab83e62277b3",
   "metadata": {},
   "outputs": [],
   "source": [
    "import numpy as np\n",
    "import pandas as pd\n",
    "import matplotlib.pyplot as plt\n",
    "import torch"
   ]
  },
  {
   "cell_type": "markdown",
   "id": "b6565801-204f-475b-99ba-ebfc7839447e",
   "metadata": {},
   "source": [
    "### Creating Tensors "
   ]
  },
  {
   "cell_type": "markdown",
   "id": "ab00c7bb-d4c7-404a-9a8e-c0d1c75bec42",
   "metadata": {},
   "source": [
    "    x = torch.randn(*size)              # tensor with independent N(0,1) entries\n",
    "    x = torch.[ones|zeros](*size)       # tensor with all 1's [or 0's]\n",
    "    x = torch.tensor(L)                 # create tensor from [nested] list or ndarray L\n",
    "    y = x.clone()                       # clone of x\n",
    "    with torch.no_grad():               # code wrap that stops autograd from tracking tensor history\n",
    "    requires_grad=True                  # arg, when set to True, tracks computation \n",
    "                                        # history for future derivative calculations\n"
   ]
  },
  {
   "cell_type": "code",
   "execution_count": 2,
   "id": "d441794a-735b-4a05-b0af-3b83ad932104",
   "metadata": {},
   "outputs": [
    {
     "name": "stdout",
     "output_type": "stream",
     "text": [
      "tensor(5)\n"
     ]
    }
   ],
   "source": [
    "# scalars have zero dimension\n",
    "scalar = torch.tensor(5)\n",
    "print(scalar)"
   ]
  },
  {
   "cell_type": "code",
   "execution_count": 3,
   "id": "a1f150c5-beab-4bdb-b29b-b0d921814efc",
   "metadata": {},
   "outputs": [
    {
     "data": {
      "text/plain": [
       "(tensor([2, 3]), tensor([0.6921, 0.5314]), 1)"
      ]
     },
     "execution_count": 3,
     "metadata": {},
     "output_type": "execute_result"
    }
   ],
   "source": [
    "# one dimensional tensor\n",
    "vector = torch.tensor([2,3])\n",
    "random_vec = torch.rand(2)\n",
    "vector, random_vec, vector.ndim"
   ]
  },
  {
   "cell_type": "code",
   "execution_count": 4,
   "id": "fb6dfcf1-d637-4958-82eb-3fb87bc62071",
   "metadata": {},
   "outputs": [
    {
     "data": {
      "text/plain": [
       "(tensor([[2, 3, 4],\n",
       "         [5, 6, 7]]),\n",
       " tensor([[0.8860, 0.7357, 0.2157],\n",
       "         [0.4908, 0.5473, 0.9926]]))"
      ]
     },
     "execution_count": 4,
     "metadata": {},
     "output_type": "execute_result"
    }
   ],
   "source": [
    "# three dimensional tensor\n",
    "matrix = torch.tensor([[2,3,4], [5,6,7]])\n",
    "random_mat = torch.rand(2,3)\n",
    "matrix, random_mat"
   ]
  },
  {
   "cell_type": "code",
   "execution_count": 5,
   "id": "568abb6a-2e57-4ece-b9da-92e3d02aa99e",
   "metadata": {},
   "outputs": [
    {
     "data": {
      "text/plain": [
       "tensor([[1, 2, 3],\n",
       "        [4, 5, 6],\n",
       "        [7, 8, 9]])"
      ]
     },
     "execution_count": 5,
     "metadata": {},
     "output_type": "execute_result"
    }
   ],
   "source": [
    "one_to_5 = torch.arange(1, 10).reshape(3,3)\n",
    "one_to_5"
   ]
  },
  {
   "cell_type": "code",
   "execution_count": 6,
   "id": "a2b52425-0a6f-406d-98f6-3e9ce835a040",
   "metadata": {},
   "outputs": [
    {
     "data": {
      "text/plain": [
       "(tensor([[0, 0, 0],\n",
       "         [0, 0, 0],\n",
       "         [0, 0, 0]]),\n",
       " tensor([[1, 1, 1],\n",
       "         [1, 1, 1],\n",
       "         [1, 1, 1]]))"
      ]
     },
     "execution_count": 6,
     "metadata": {},
     "output_type": "execute_result"
    }
   ],
   "source": [
    "five_zeros = torch.zeros_like(one_to_5)\n",
    "five_ones = torch.ones_like(one_to_5)\n",
    "five_zeros, five_ones"
   ]
  },
  {
   "cell_type": "markdown",
   "id": "575983d9-e162-4283-a842-7258a5186a4c",
   "metadata": {},
   "source": [
    "### Tensor Data Types\n",
    "**Note**: Tensor datatypes is one of the 3 big errors encountered in PyTorch and Deep Learning <br>\n",
    "1. Tensors not right datatype\n",
    "2. Tensors not right shape\n",
    "3. Tensors not on right device"
   ]
  },
  {
   "cell_type": "code",
   "execution_count": 7,
   "id": "02b70df4-c51a-421c-b128-4b19808d27d7",
   "metadata": {},
   "outputs": [
    {
     "name": "stdout",
     "output_type": "stream",
     "text": [
      "tensor([2., 3., 4., 5.]) torch.float32\n",
      "tensor([2., 3., 4., 5.], dtype=torch.float16) torch.float16\n"
     ]
    },
    {
     "data": {
      "text/plain": [
       "tensor([ 4.,  9., 16., 25.])"
      ]
     },
     "execution_count": 7,
     "metadata": {},
     "output_type": "execute_result"
    }
   ],
   "source": [
    "# creating a float32 tensor\n",
    "float_32_tensor = torch.tensor([2.0, 3, 4, 5.0], dtype=torch.float32, device=None, requires_grad=False)\n",
    "print(float_32_tensor, float_32_tensor.dtype)\n",
    "\n",
    "#creating a float16 tensor\n",
    "float_16_tensor = torch.tensor([2.0, 3, 4, 5.0], dtype=torch.float16, device=None, requires_grad=False)\n",
    "print(float_16_tensor, float_16_tensor.dtype)\n",
    "\n",
    "# mutliplying diff dtype tensors\n",
    "float_32_tensor * float_16_tensor "
   ]
  },
  {
   "cell_type": "markdown",
   "id": "fa5a29af-2920-4acd-8585-48fc09f3c598",
   "metadata": {},
   "source": [
    "### Manipulating Tensors\n",
    "- Addition `torch.add()`\n",
    "- Subraction `torch.sub()`\n",
    "- Multiplication (element-wise) `torch.mul()`\n",
    "- Division `torch.div()`\n",
    "- Matrix Multiplication `torhc.matmul()`\n",
    "\n",
    "**Types of Operation:**\n",
    "- Inplace Operarion\n",
    "- Out-of-place operation"
   ]
  },
  {
   "cell_type": "code",
   "execution_count": 8,
   "id": "a8253846-72b2-42a0-8f09-9cc682f4c136",
   "metadata": {},
   "outputs": [
    {
     "name": "stdout",
     "output_type": "stream",
     "text": [
      "tensor([2, 3, 4, 5, 6])\n",
      "tensor([5, 6, 7, 8, 9])\n",
      "tensor([5, 6, 7, 8, 9])\n",
      "tensor([3, 4, 5, 6, 7])\n"
     ]
    }
   ],
   "source": [
    "# Addition\n",
    "some_tensor = torch.tensor([2,3,4,5,6])\n",
    "some_tensor2 = torch.tensor([1,1,1,1,1])\n",
    "print(some_tensor)\n",
    "print(some_tensor + 3)  # broadcasting \n",
    "print(torch.add(some_tensor, 3))\n",
    "print(torch.add(some_tensor, some_tensor2))\n",
    "\n"
   ]
  },
  {
   "cell_type": "code",
   "execution_count": 9,
   "id": "6c32ff01-6a25-48b7-b2d4-1faa78db4f03",
   "metadata": {},
   "outputs": [
    {
     "name": "stdout",
     "output_type": "stream",
     "text": [
      "tensor([1, 2, 3, 4, 5])\n",
      "tensor([1, 2, 3, 4, 5])\n",
      "tensor([1, 2, 3, 4, 5])\n"
     ]
    },
    {
     "data": {
      "text/plain": [
       "<function torch._VariableFunctionsClass.sub>"
      ]
     },
     "execution_count": 9,
     "metadata": {},
     "output_type": "execute_result"
    }
   ],
   "source": [
    "# subraction\n",
    "print(some_tensor - 1)\n",
    "print(torch.sub(some_tensor, 1))\n",
    "print(torch.sub(some_tensor, some_tensor2))\n",
    "torch.sub"
   ]
  },
  {
   "cell_type": "code",
   "execution_count": 10,
   "id": "4ff51fb2-beae-4219-ac75-ea69c85ce882",
   "metadata": {},
   "outputs": [
    {
     "name": "stdout",
     "output_type": "stream",
     "text": [
      "tensor([ 4,  6,  8, 10, 12])\n",
      "tensor([ 4,  6,  8, 10, 12])\n",
      "tensor(20)\n"
     ]
    }
   ],
   "source": [
    "# multiplication \n",
    "print(some_tensor * 2) # broadcasting\n",
    "print(torch.multiply(some_tensor, 2))  # # broadcasting\n",
    "print(torch.matmul(some_tensor, some_tensor2))  # matmul --> dot product"
   ]
  },
  {
   "cell_type": "code",
   "execution_count": 11,
   "id": "20671855-970b-4a25-b3dd-61be862ecdb0",
   "metadata": {},
   "outputs": [
    {
     "name": "stdout",
     "output_type": "stream",
     "text": [
      "matrix_1: \n",
      "tensor([[1, 2],\n",
      "        [3, 4]])\n",
      "matrix_2: \n",
      "tensor([[5, 6],\n",
      "        [7, 8]])\n",
      "Element-wise Product:\n",
      "tensor([[ 5, 12],\n",
      "        [21, 32]])\n",
      "Dot Product with matmul:\n",
      "tensor([[19, 22],\n",
      "        [43, 50]])\n",
      "Dot Product with Mat A @ Mat B: \n",
      "tensor([[19, 22],\n",
      "        [43, 50]])\n"
     ]
    }
   ],
   "source": [
    "# multiplication in higher dimensions\n",
    "some_matrix1 = torch.arange(1,5).reshape(2,2)\n",
    "some_matrix2 = torch.arange(5,9).reshape(2,2)\n",
    "\n",
    "print(f'matrix_1: \\n{some_matrix1}\\nmatrix_2: \\n{some_matrix2}')\n",
    "print(f'Element-wise Product:\\n{torch.mul(some_matrix1, some_matrix2)}')\n",
    "print(f'Dot Product with matmul:\\n{torch.matmul(some_matrix1, some_matrix2)}')\n",
    "print(f'Dot Product with Mat A @ Mat B: \\n{some_matrix1 @ some_matrix2}')"
   ]
  },
  {
   "cell_type": "code",
   "execution_count": 12,
   "id": "fed58098-cb14-4f31-8f47-2d3114cc5db1",
   "metadata": {},
   "outputs": [
    {
     "data": {
      "text/plain": [
       "tensor([3, 4, 5, 6, 7])"
      ]
     },
     "execution_count": 12,
     "metadata": {},
     "output_type": "execute_result"
    }
   ],
   "source": [
    "# Inplace operation\n",
    "some_tensor2.add_(some_tensor)"
   ]
  },
  {
   "cell_type": "markdown",
   "id": "07e71b1b-84dd-49d2-9f08-18a4f3e92f0e",
   "metadata": {},
   "source": [
    "### Tensor Aggregation (finding min, max, sum, etc)"
   ]
  },
  {
   "cell_type": "code",
   "execution_count": 13,
   "id": "e46f4f1c-d403-4fc1-8cd4-ea25a440ccca",
   "metadata": {},
   "outputs": [
    {
     "data": {
      "text/plain": [
       "(tensor(4), tensor(4))"
      ]
     },
     "execution_count": 13,
     "metadata": {},
     "output_type": "execute_result"
    }
   ],
   "source": [
    "# finding max\n",
    "torch.max(some_matrix1), some_matrix1.max()"
   ]
  },
  {
   "cell_type": "code",
   "execution_count": 14,
   "id": "08be5019-5051-43ee-83d8-535369669cd5",
   "metadata": {},
   "outputs": [
    {
     "data": {
      "text/plain": [
       "(tensor(1), tensor(1))"
      ]
     },
     "execution_count": 14,
     "metadata": {},
     "output_type": "execute_result"
    }
   ],
   "source": [
    "# Finding min\n",
    "torch.min(some_matrix1), some_matrix1.min()"
   ]
  },
  {
   "cell_type": "code",
   "execution_count": 15,
   "id": "d430281e-734c-4b9e-98a1-a37755dea348",
   "metadata": {},
   "outputs": [
    {
     "data": {
      "text/plain": [
       "(tensor(2.5000), tensor(6.5000))"
      ]
     },
     "execution_count": 15,
     "metadata": {},
     "output_type": "execute_result"
    }
   ],
   "source": [
    "# for finding mean you need to change the type as it doesn't support long dtype\n",
    "torch.mean(some_matrix1.type(torch.float32)), torch.mean(some_matrix2.type(torch.float32))\n"
   ]
  },
  {
   "cell_type": "code",
   "execution_count": 16,
   "id": "d439d572-5292-4692-87d8-167343c9b9eb",
   "metadata": {},
   "outputs": [
    {
     "data": {
      "text/plain": [
       "(tensor(10), tensor(10))"
      ]
     },
     "execution_count": 16,
     "metadata": {},
     "output_type": "execute_result"
    }
   ],
   "source": [
    "# Finding sum\n",
    "torch.sum(some_matrix1), some_matrix1.sum()"
   ]
  },
  {
   "cell_type": "markdown",
   "id": "d9984a76-d519-4a31-bf3a-7bab5a2736b7",
   "metadata": {},
   "source": [
    "### Finding positional min, max"
   ]
  },
  {
   "cell_type": "code",
   "execution_count": 17,
   "id": "3585d02c-d736-418a-ba69-5ff9363dfaf1",
   "metadata": {},
   "outputs": [
    {
     "name": "stdout",
     "output_type": "stream",
     "text": [
      "tensor([[1, 2],\n",
      "        [3, 4]]), \n",
      "tensor([[5, 6],\n",
      "        [7, 8]])\n",
      "tensor(0) tensor(0)\n",
      "tensor(3) tensor(3)\n"
     ]
    }
   ],
   "source": [
    "print(f'{some_matrix1}, \\n{some_matrix2}')\n",
    "print(some_matrix1.argmin(), some_matrix2.argmin())\n",
    "print(some_matrix1.argmax(), some_matrix2.argmax())"
   ]
  },
  {
   "cell_type": "markdown",
   "id": "3cab1183-306b-43a7-8324-70b56dab32f9",
   "metadata": {},
   "source": [
    "### Dimensionality\n",
    "* Reshape - reshapes an input tensor into the defined shape `.reshape`\n",
    "* View - returns a view of the input tensor into the defined shape but keeps the memory of original tensor `view`\n",
    "* Stacking - combines multiple tensor on top of each other `vstack` or side by side `hstack`\n",
    "* Squeezing - removes all `1` dimensions from a tensor\n",
    "* Unsqueezing - add a `1`dimension to the target tensor\n",
    "* Permute - return a view of the input tensor with dimensions permuted (swapped) in a certain way"
   ]
  },
  {
   "cell_type": "markdown",
   "id": "fec9590b-e033-43d0-89e9-9d9b9a2d1621",
   "metadata": {},
   "source": [
    "    x.size()                                  # return tuple-like object of dimensions\n",
    "    x = torch.cat(tensor_seq, dim=0)          # concatenates tensors along dim\n",
    "    y = x.view(a,b,...)                       # reshapes x into size (a,b,...)\n",
    "    y = x.view(-1,a)                          # reshapes x into size (b,a) for some b\n",
    "    y = x.transpose(a,b)                      # swaps dimensions a and b\n",
    "    y = x.permute(*dims)                      # permutes dimensions\n",
    "    y = x.unsqueeze(dim)                      # tensor with added axis\n",
    "    y = x.unsqueeze(dim=2)                    # (a,b,c) tensor -> (a,b,1,c) tensor\n",
    "    y = x.squeeze()                           # removes all dimensions of size 1 (a,1,b,1) -> (a,b)\n",
    "    y = x.squeeze(dim=1)                      # removes specified dimension of size 1 (a,1,b,1) -> (a,b,1)\n"
   ]
  },
  {
   "cell_type": "code",
   "execution_count": 18,
   "id": "8150c522-32b0-4732-8ad5-a1f5c85555e9",
   "metadata": {},
   "outputs": [
    {
     "data": {
      "text/plain": [
       "(tensor([ 1,  2,  3,  4,  5,  6,  7,  8,  9, 10, 11, 12]), torch.Size([12]))"
      ]
     },
     "execution_count": 18,
     "metadata": {},
     "output_type": "execute_result"
    }
   ],
   "source": [
    "x = torch.arange(1,13)\n",
    "x, x.shape"
   ]
  },
  {
   "cell_type": "code",
   "execution_count": 19,
   "id": "32beea21-dadf-455c-b97c-289e436f2d3e",
   "metadata": {},
   "outputs": [
    {
     "data": {
      "text/plain": [
       "(tensor([[ 1,  2,  3,  4],\n",
       "         [ 5,  6,  7,  8],\n",
       "         [ 9, 10, 11, 12]]),\n",
       " torch.Size([3, 4]))"
      ]
     },
     "execution_count": 19,
     "metadata": {},
     "output_type": "execute_result"
    }
   ],
   "source": [
    "x_reshaped = x.reshape(3,4)\n",
    "x_reshaped, x_reshaped.shape"
   ]
  },
  {
   "cell_type": "code",
   "execution_count": 23,
   "id": "5709d1d7-bfc8-4a02-b66c-08f8384c08a2",
   "metadata": {},
   "outputs": [
    {
     "data": {
      "text/plain": [
       "(tensor([[ 5,  2,  3,  4],\n",
       "         [ 5,  6,  7,  8],\n",
       "         [ 5, 10, 11, 12]]),\n",
       " tensor([ 5,  2,  3,  4,  5,  6,  7,  8,  5, 10, 11, 12]))"
      ]
     },
     "execution_count": 23,
     "metadata": {},
     "output_type": "execute_result"
    }
   ],
   "source": [
    "z = x.view(3,4) # .view doesnot make changes in z but only views z with defined shape\n",
    "z[:, 0] = 5\n",
    "z, x # here the changes made in z also applies in x"
   ]
  },
  {
   "cell_type": "code",
   "execution_count": 44,
   "id": "d2e98735-d92a-45cf-938e-131233d5fe46",
   "metadata": {},
   "outputs": [
    {
     "data": {
      "text/plain": [
       "tensor([[ 5,  2,  3,  4,  5,  6,  7,  8,  5, 10, 11, 12],\n",
       "        [ 5,  2,  3,  4,  5,  6,  7,  8,  5, 10, 11, 12]])"
      ]
     },
     "execution_count": 44,
     "metadata": {},
     "output_type": "execute_result"
    }
   ],
   "source": [
    "x_stacked = torch.stack([x, x], dim = 0)\n",
    "x_stacked"
   ]
  },
  {
   "cell_type": "code",
   "execution_count": 53,
   "id": "44b332f9-05f3-4f19-9f33-dd1d699d4989",
   "metadata": {},
   "outputs": [
    {
     "data": {
      "text/plain": [
       "torch.Size([256, 256, 3])"
      ]
     },
     "execution_count": 53,
     "metadata": {},
     "output_type": "execute_result"
    }
   ],
   "source": [
    "a = torch.rand(256, 256, 3)\n",
    "a.shape"
   ]
  },
  {
   "cell_type": "code",
   "execution_count": 56,
   "id": "e78b25e9-ae5d-4fd4-a009-878e994a5812",
   "metadata": {},
   "outputs": [
    {
     "data": {
      "text/plain": [
       "torch.Size([3, 256, 256])"
      ]
     },
     "execution_count": 56,
     "metadata": {},
     "output_type": "execute_result"
    }
   ],
   "source": [
    "# herre the dimensions swapped, the parameters represent the swapping order of dimensions\n",
    "a.permute(2, 0, 1).shape  # here the color channel is swapped at first "
   ]
  },
  {
   "cell_type": "markdown",
   "id": "4d5486fc-a56f-4343-809d-e025e528ced5",
   "metadata": {},
   "source": [
    "### Indexing \n",
    "Indexing with PyTorch is similar to that with NumPy"
   ]
  },
  {
   "cell_type": "code",
   "execution_count": 63,
   "id": "9ea3f42f-ae97-4498-bf0b-1ede3b36eaf7",
   "metadata": {},
   "outputs": [
    {
     "data": {
      "text/plain": [
       "(tensor([[[1, 2, 3],\n",
       "          [4, 5, 6],\n",
       "          [7, 8, 9]]]),\n",
       " torch.Size([1, 3, 3]))"
      ]
     },
     "execution_count": 63,
     "metadata": {},
     "output_type": "execute_result"
    }
   ],
   "source": [
    "t = torch.arange(1, 10).reshape(1,3,3)\n",
    "t, t.shape"
   ]
  },
  {
   "cell_type": "code",
   "execution_count": 72,
   "id": "ec4ff498-d993-4805-aa50-24e4212dcffa",
   "metadata": {},
   "outputs": [
    {
     "data": {
      "text/plain": [
       "(tensor([[1, 2, 3],\n",
       "         [4, 5, 6],\n",
       "         [7, 8, 9]]),\n",
       " tensor([1, 2, 3]),\n",
       " tensor(2))"
      ]
     },
     "execution_count": 72,
     "metadata": {},
     "output_type": "execute_result"
    }
   ],
   "source": [
    "t[0], t[0][0], t[0][0][1] "
   ]
  },
  {
   "cell_type": "code",
   "execution_count": 84,
   "id": "cf0bd4bf-e759-4b12-87bf-4452f4f79e43",
   "metadata": {},
   "outputs": [
    {
     "data": {
      "text/plain": [
       "(tensor([[1, 2, 3]]), tensor([[2, 5, 8]]))"
      ]
     },
     "execution_count": 84,
     "metadata": {},
     "output_type": "execute_result"
    }
   ],
   "source": [
    "t[:,0,:], t[:,:,1]"
   ]
  },
  {
   "cell_type": "markdown",
   "id": "fa903241-9098-4d3c-9787-bc980268109d",
   "metadata": {},
   "source": [
    "### PyTorch & NumPy\n",
    "- To convert a NumPy array into PyTorch tensor -> `torch.from_numpy(ndarray)`\n",
    "- To convert a PyTorch tensor into Numpy array -> `torch.Tensor.numpy()`"
   ]
  },
  {
   "cell_type": "code",
   "execution_count": 85,
   "id": "9c2811f4-0994-4b3a-85d2-dcfbb6744993",
   "metadata": {},
   "outputs": [
    {
     "data": {
      "text/plain": [
       "(array([1, 2, 3, 4, 5, 6, 7, 8, 9]),\n",
       " tensor([1, 2, 3, 4, 5, 6, 7, 8, 9], dtype=torch.int32))"
      ]
     },
     "execution_count": 85,
     "metadata": {},
     "output_type": "execute_result"
    }
   ],
   "source": [
    "# converting ndarray to tensor \n",
    "narray1 = np.arange(1,10)\n",
    "tensor1 = torch.from_numpy(narray)\n",
    "narray, tensor1"
   ]
  },
  {
   "cell_type": "code",
   "execution_count": 90,
   "id": "e0ce758a-1310-4756-aa6b-7f802ef98696",
   "metadata": {},
   "outputs": [
    {
     "data": {
      "text/plain": [
       "(tensor([1, 2, 3, 4, 5, 6, 7]), array([1, 2, 3, 4, 5, 6, 7], dtype=int64))"
      ]
     },
     "execution_count": 90,
     "metadata": {},
     "output_type": "execute_result"
    }
   ],
   "source": [
    "# convert tensor into ndarray \n",
    "tensor2 = torch.arange(1,8)\n",
    "narray2 = tensor2.numpy()\n",
    "tensor2, narray2"
   ]
  },
  {
   "cell_type": "markdown",
   "id": "512ba8de-05e4-4894-8055-5f190b766d24",
   "metadata": {},
   "source": [
    "### Reproducity (trying to take random out of random)"
   ]
  },
  {
   "cell_type": "code",
   "execution_count": 91,
   "id": "e09fcb5b-2a8b-4f82-91d2-e9a6b96d3dc4",
   "metadata": {},
   "outputs": [
    {
     "name": "stdout",
     "output_type": "stream",
     "text": [
      "tensor([[0.0345, 0.1118, 0.7851],\n",
      "        [0.5812, 0.9450, 0.0281],\n",
      "        [0.5573, 0.4904, 0.1818]])\n",
      "tensor([[0.9998, 0.8840, 0.4180],\n",
      "        [0.4748, 0.1802, 0.8822],\n",
      "        [0.7699, 0.6050, 0.5236]])\n",
      "tensor([[False, False, False],\n",
      "        [False, False, False],\n",
      "        [False, False, False]])\n"
     ]
    }
   ],
   "source": [
    "# create two random tensors \n",
    "random_tensor_A = torch.rand(3,3)\n",
    "random_tensor_B = torch.rand(3,3)\n",
    "\n",
    "print(random_tensor_A)\n",
    "print(random_tensor_B)\n",
    "print(random_tensor_A==random_tensor_B)"
   ]
  },
  {
   "cell_type": "code",
   "execution_count": 93,
   "id": "3cf1f727-d72e-4c2d-8d42-261daf097625",
   "metadata": {},
   "outputs": [
    {
     "name": "stdout",
     "output_type": "stream",
     "text": [
      "tensor([[0.8823, 0.9150, 0.3829],\n",
      "        [0.9593, 0.3904, 0.6009],\n",
      "        [0.2566, 0.7936, 0.9408]])\n",
      "tensor([[0.8823, 0.9150, 0.3829],\n",
      "        [0.9593, 0.3904, 0.6009],\n",
      "        [0.2566, 0.7936, 0.9408]])\n",
      "tensor([[True, True, True],\n",
      "        [True, True, True],\n",
      "        [True, True, True]])\n"
     ]
    }
   ],
   "source": [
    "# create a random seed\n",
    "Random_seed = 42\n",
    "#torch.manual_seed(Random_seed) initializes PyTorch's random number generator with the seed 42. \n",
    "torch.manual_seed(Random_seed)\n",
    "random_tensor_C = torch.rand(3,3)\n",
    "# torch.mamual_seed() below resets the random number generator. \n",
    "# So the sequence of random numbers generated starts from the same initial state as before.\n",
    "torch.manual_seed(Random_seed)\n",
    "random_tensor_D = torch.rand(3,3)\n",
    "# Since the seed was reset, random_tensor_D will be identical to random_tensor_C.\n",
    "\n",
    "print(random_tensor_C)\n",
    "print(random_tensor_D)\n",
    "print(random_tensor_C==random_tensor_D) "
   ]
  },
  {
   "cell_type": "markdown",
   "id": "93b25de9-7201-46a3-8c5b-26e410b162d1",
   "metadata": {},
   "source": [
    "### Running tensors on the GPU\n"
   ]
  },
  {
   "cell_type": "code",
   "execution_count": 95,
   "id": "50a322c3-c38e-4f78-8165-7e7dcebae282",
   "metadata": {},
   "outputs": [
    {
     "name": "stdout",
     "output_type": "stream",
     "text": [
      "Mon Jan  6 22:01:17 2025       \n",
      "+-----------------------------------------------------------------------------------------+\n",
      "| NVIDIA-SMI 566.36                 Driver Version: 566.36         CUDA Version: 12.7     |\n",
      "|-----------------------------------------+------------------------+----------------------+\n",
      "| GPU  Name                  Driver-Model | Bus-Id          Disp.A | Volatile Uncorr. ECC |\n",
      "| Fan  Temp   Perf          Pwr:Usage/Cap |           Memory-Usage | GPU-Util  Compute M. |\n",
      "|                                         |                        |               MIG M. |\n",
      "|=========================================+========================+======================|\n",
      "|   0  NVIDIA GeForce RTX 3050 ...  WDDM  |   00000000:01:00.0 Off |                  N/A |\n",
      "| N/A   35C    P0             15W /   56W |       0MiB /   4096MiB |      0%      Default |\n",
      "|                                         |                        |                  N/A |\n",
      "+-----------------------------------------+------------------------+----------------------+\n",
      "                                                                                         \n",
      "+-----------------------------------------------------------------------------------------+\n",
      "| Processes:                                                                              |\n",
      "|  GPU   GI   CI        PID   Type   Process name                              GPU Memory |\n",
      "|        ID   ID                                                               Usage      |\n",
      "|=========================================================================================|\n",
      "|  No running processes found                                                             |\n",
      "+-----------------------------------------------------------------------------------------+\n"
     ]
    }
   ],
   "source": [
    "!nvidia-smi"
   ]
  },
  {
   "cell_type": "markdown",
   "id": "9b1a995c-4274-4030-ae45-d6851e55ecaa",
   "metadata": {},
   "source": [
    "#### 1. Check for GPU access with PyTorch"
   ]
  },
  {
   "cell_type": "code",
   "execution_count": 96,
   "id": "d368a62a-fc0e-407a-bf94-184bf1fd6e51",
   "metadata": {},
   "outputs": [
    {
     "data": {
      "text/plain": [
       "'cuda'"
      ]
     },
     "execution_count": 96,
     "metadata": {},
     "output_type": "execute_result"
    }
   ],
   "source": [
    "# Setup device agnostic code \n",
    "device = 'cuda' if torch.cuda.is_available() else 'cpu'\n",
    "device"
   ]
  },
  {
   "cell_type": "code",
   "execution_count": 97,
   "id": "caf28e0b-7dcc-4efa-a940-893bd4c0f1ec",
   "metadata": {},
   "outputs": [
    {
     "data": {
      "text/plain": [
       "1"
      ]
     },
     "execution_count": 97,
     "metadata": {},
     "output_type": "execute_result"
    }
   ],
   "source": [
    "# count number of devices\n",
    "torch.cuda.device_count()"
   ]
  },
  {
   "cell_type": "markdown",
   "id": "0b470ced-4862-4f22-a0e0-6aa46ae634f9",
   "metadata": {},
   "source": [
    "#### 2. Tensors and Device (CPU/GPU)\n",
    "Tensors are created on CPU by default. You can create it on GPU or move it from CPU to GPU or vice versa.\n",
    "\n",
    "**Note**: Tensor on GPU can't be transformed into NumPy array, so it needs to be moved back to CPU before transforming.\n"
   ]
  },
  {
   "cell_type": "code",
   "execution_count": 98,
   "id": "9c0cb4f8-9299-4454-9364-3f8b6d061a87",
   "metadata": {},
   "outputs": [
    {
     "data": {
      "text/plain": [
       "(tensor([1, 2, 3, 4, 5]), device(type='cpu'))"
      ]
     },
     "execution_count": 98,
     "metadata": {},
     "output_type": "execute_result"
    }
   ],
   "source": [
    "# create a tensor (default on CPU)\n",
    "tensor_A = torch.tensor([1,2,3,4,5])\n",
    "tensor_A, tensor_A.device"
   ]
  },
  {
   "cell_type": "code",
   "execution_count": 100,
   "id": "9900394d-becb-41e1-9410-1214d72b3709",
   "metadata": {},
   "outputs": [
    {
     "data": {
      "text/plain": [
       "tensor([1, 2, 3, 4, 5], device='cuda:0')"
      ]
     },
     "execution_count": 100,
     "metadata": {},
     "output_type": "execute_result"
    }
   ],
   "source": [
    "# create a tensor on GPU \n",
    "tensor_on_gpu = tensor_A.to(device)\n",
    "tensor_on_gpu"
   ]
  },
  {
   "cell_type": "code",
   "execution_count": 106,
   "id": "c8c39774-89c8-4a57-b91c-16ab8b192a8a",
   "metadata": {},
   "outputs": [
    {
     "data": {
      "text/plain": [
       "(tensor([1, 2, 3, 4, 5]), array([1, 2, 3, 4, 5], dtype=int64))"
      ]
     },
     "execution_count": 106,
     "metadata": {},
     "output_type": "execute_result"
    }
   ],
   "source": [
    "# Moving tensor back to cpu \n",
    "# A tensor on GPU can't be transformed into NumPy array\n",
    "tensor_back_to_CPU = tensor_on_gpu.to('cpu')\n",
    "tensor_back_to_CPU, tensor_back_to_CPU.numpy()"
   ]
  }
 ],
 "metadata": {
  "kernelspec": {
   "display_name": "Python 3 (ipykernel)",
   "language": "python",
   "name": "python3"
  },
  "language_info": {
   "codemirror_mode": {
    "name": "ipython",
    "version": 3
   },
   "file_extension": ".py",
   "mimetype": "text/x-python",
   "name": "python",
   "nbconvert_exporter": "python",
   "pygments_lexer": "ipython3",
   "version": "3.12.3"
  }
 },
 "nbformat": 4,
 "nbformat_minor": 5
}
