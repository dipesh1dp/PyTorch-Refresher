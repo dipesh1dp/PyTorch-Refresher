





# Import PyTorch
import torch
from torch import nn

# Import Torchvision
import torchvision
from torchvision import datasets 
from torchvision import transforms
from torchvision.transforms import ToTensor





# Setup training data 
train_data = torchvision.datasets.FashionMNIST(
    root="data", # where to download data?
    train=True, # do we want train data or only test data?
    transform=torchvision.transforms.ToTensor(), # how do we want to transform the data?
    target_transform=None, # how do we want to transform the target?
    download=True 
)

# Setup testing data 
test_data = torchvision.datasets.FashionMNIST(
    root="data", 
    train=False, 
    transform=ToTensor(), 
    target_transform=None
)


len(train_data), len(test_data)


# Check the data
image, label = train_data[0]


image,label


# Check the class names
class_names = train_data.classes
class_names


# Check class index
class_to_idx = train_data.class_to_idx
class_to_idx


train_data.targets


print(f"Image shape: {image.shape}: -> [color_channels, height, width]")
print(f"Image Label : {class_names[label]}")


# Visualizing the data 
import matplotlib.pyplot as plt 

image, label = train_data[0]
plt.imshow(image.squeeze())
plt.title(class_names[label])
plt.axis(False)


plt.imshow(image.squeeze(), cmap='gray')
plt.title(class_names[label])
plt.axis(False)


# Plot some more random images
torch.manual_seed(42)
fig = plt.figure(figsize=(9,9))
rows, cols = 4, 4 
for i in range(1, rows*cols+1): 
    random_idx = torch.randint(0, len(train_data), size=[1]).item()
    img, label = train_data[random_idx]
    fig.add_subplot(rows, cols, i)
    plt.imshow(img.squeeze(), cmap="gray")
    plt.title(class_names[label])
    plt.axis(False)
    





from torch.utils.data import DataLoader

# Setup the batch size hyperparameter
BATCH_SIZE = 32

# Turn datasets into iterables (batches)
train_dataloader = DataLoader(dataset=train_data,
                             batch_size=BATCH_SIZE, 
                             shuffle=True)  # It is necessary to shuffle train data 

test_dataloader = DataLoader(dataset=test_data, 
                            batch_size=BATCH_SIZE, 
                            shuffle=False)  # It is not necessary to shuffle test data 

train_dataloader, test_dataloader


# Let's check out 
print(f"Length of train_dataloader: {len(train_dataloader)} batches of {BATCH_SIZE}")
print(f"Length of test_dataloader: {len(test_dataloader)} batches of {BATCH_SIZE}")


# Check out what's inside dataloader 
train_features_batch, train_labels_batch = next(iter(train_dataloader))
test_features_batch, test_labels_batch =  next(iter(test_dataloader))
train_features_batch.shape, train_labels_batch.shape


# let's visualize a sample 
torch.manual_seed(42)

random_idx = torch.randint(0, len(train_features_batch), size=[1]).item()
img, label = train_features_batch[random_idx], train_labels_batch[random_idx] 
plt.imshow(img.squeeze(), cmap="gray")
plt.title(class_names[label])
plt.axis(False)
print(f"Image Size: {img.shape}")
print(f"Image Label: {class_names[label]}, label_size: {label.shape}")





# Create a flatten layer 
flatten_layer = nn.Flatten() 

# Take a single samle 
x = train_features_batch[0] 

# Forward Pass 
output = flatten_layer(x)

print(f"Input shape: {x.shape} -> [color_channels, height, width]") 
print(f"output shape: {output.shape} -> [color_channels, height*width]")


from torch import nn 

class FashionMNISTV0(nn.Module): 
    def __init__(self, 
                 input_shape: int, 
                 hidden_units: int, 
                 output_shape:int):
        super().__init__()
        self.layer_stack = nn.Sequential(
            nn.Flatten(), 
            nn.Linear(in_features=input_shape, 
                     out_features=hidden_units), 
            nn.Linear(in_features=hidden_units, out_features=output_shape)
        )

    def forward(self, x): 
        return self.layer_stack(x)


torch.manual_seed(42)

model_0 = FashionMNISTV0(
    input_shape=28*28, 
    hidden_units=10, 
    output_shape=len(class_names)
) 

model_0


dummy_x = torch.rand([1, 1, 28, 28])
model_0(dummy_x)


model_0.state_dict()





# helper_functions.py already downloaded
from helper_functions import accuracy_fn # Note: could also use torchmetrics.Accuracy(task = 'multiclass', num_classes=len(class_names)).to(device)

loss_fn = nn.CrossEntropyLoss()
optimizer = torch.optim.SGD(params=model_0.parameters(), 
                            lr=0.1)





from timeit import default_timer as timer

def print_train_timer(start: float,
                     end: float, 
                     device=None):
    total_time = end-start
    print(f"\nTotal time {total_time:.3f} seconds trained on {device}")
    return total_time


start_time = timer() 
end_time = timer() 
# some code 
print_train_timer(start=start_time, end=end_time, device=device)





# import tqdm 
from tqdm.auto import tqdm 

# set manual seed and start timer 
torch.manual_seed(42)
start_time = timer() 

# Create training loop 
epochs = 3 
for epoch in tqdm(range(epochs)): 
    print(f"\nEpoch: {epoch}\n---")
    train_loss = 0

    for batch, (X, y) in enumerate(train_dataloader):
        ### Training  
        model_0.train()
        
        # 1. Forward pass
        y_pred = model_0(X) 

        # 2. Calculate loss per batch
        loss = loss_fn(y_pred, y) 
        train_loss += loss
        # acc = accuracy_fn(y, y_pred) 

        # 3. Optimizer zero grad 
        optimizer.zero_grad() 

        # 4. Loss backward 
        loss.backward() 

        # 5. step optimizer 
        optimizer.step() 

        # print out what's happening 
        if batch % 400 == 0: 
            print(f"Looked at {batch*len(X)}/{len(train_dataloader.dataset)} samples")

    # calculate the train loss average per batch
    train_loss /= len(train_dataloader)

    ### Testing 
    test_loss, test_acc = 0, 0
    model_0.eval()
    with torch.inference_mode(): 
        for X_test, y_test in test_dataloader: 

            # 1. Forward pass 
            test_pred = model_0(X_test) 

            # 2. Calculate loss and accuracy 
            test_loss += loss_fn(test_pred, y_test) 
            test_acc += accuracy_fn(y_test, test_pred.argmax(dim=1))

        # calculate the test looss anc accuracy average per batch 
        test_loss /= len(test_dataloader)
        test_acc /= len(test_dataloader)

    # Print out what's happening 
    print(f"Train Loss: {train_loss:.5f} | Test Loss: {test_loss:.5f} | Test Acc: {test_acc:.2f}")

# Calculating training time 
end_time = timer() 
print_train_timer(start=start_time, 
                 end=end_time,
                 device=str(next(model_0.parameters()).device))
        
    





# create an evaluation funcion 
torch.manual_seed(42)
def eval_model(model: torch.nn.Module, 
              dataloader: torch.utils.data.dataloader, 
              loss_fn: torch.nn.Module,
              accuracy_fn):
    """ Returns a dictinoary containing the results of model predicting on dataloader """
    loss, acc = 0, 0
    model.eval()
    with torch.inference_mode(): 
        for X, y in tqdm(dataloader): 
            # Make predictions 
            y_pred = model(X)

            # Accumulate loss and accuracy 
            loss += loss_fn(y_pred, y)
            acc += accuracy_fn(y, y_pred.argmax(dim=1))

        # scale loss and accuracy 
        loss /= len(dataloader)
        acc /= len(dataloader) 

    return {"model_name": model.__class__.__name__, # only works when the model was created with a class
           "model_loss": loss.item(),
           "model_accuracy": acc}

# calculate the model_0 results 
model_0_results = eval_model(model=model_0, 
                             dataloader=test_dataloader, 
                             loss_fn=loss_fn, 
                             accuracy_fn=accuracy_fn)

model_0_results
            





device = 'cuda' if torch.cuda.is_available() else 'cpu'
device





class FashionMNISV1(nn.Module): 
    def __init__(self, 
                 input_shape: int, 
                 hidden_units: int, 
                 output_shape: int):
        super().__init__() 
        self.layer_stack = nn.Sequential(
            nn.Flatten(), # Flatten the inputs into a single vector 
            nn.Linear(in_features=input_shape, out_features=hidden_units), 
            nn.ReLU(), 
            nn.Linear(in_features=hidden_units, out_features=output_shape), 
            nn.ReLU()
        )

    def forward(self, x): 
        return self.layer_stack(x)


# create an instance of the model and send to device 
torch.manual_seed(42)
model_1 = FashionMNISV1(input_shape=784, hidden_units=10, output_shape=len(class_names)).to(device)





from helper_functions import accuracy_fn
loss_fn = nn.CrossEntropyLoss()
optimizer = torch.optim.SGD(params=model_1.parameters(), 
                            lr=0.1)





torch.manual_seed(42)

def train_step(model: torch.nn.Module, 
               data_loader: torch.utils.data.dataloader, 
               loss_fn: torch.nn.Module, 
               optimizer: torch.optim.Optimizer, 
               accuracy_fn, 
               device: torch.device = device):
    """ Performs a training with model trying to learn on data_loader """
    train_loss, train_acc = 0, 0 

    # Put model in trainig mode 
    model.train()

    # Add a loop to loop throught the training batches
    for batch, (X, y) in enumerate(data_loader):
        # Put data in the target device 
        X, y = X.to(device), y.to(device)

        # 1. Forward pass
        y_pred = model(X) 

        # 2. Calculate loss per batch
        train_loss += loss_fn(y_pred, y)
        train_acc += accuracy_fn(y, y_pred.argmax(dim=1))

        # 3. Optimizer zero grad 
        optimizer.zero_grad() 

        # 4. Loss backward 
        loss.backward() 

        # 5. step optimizer 
        optimizer.step() 

    # calculate the train loss and train acc average per batch
    train_loss /= len(data_loader)
    train_acc /= len(data_loader)

    print(f"Train Loss: {train_loss:.5f} | Train Acc: {train_acc:.2f}%")


def test_step(model: torch.nn.Module, 
               data_loader: torch.utils.data.dataloader, 
               loss_fn: torch.nn.Module, 
               optimizer: torch.optim.Optimizer, 
               accuracy_fn, 
               device: torch.device = device):
    """ Performs a testing step on model going over data_loader """
    train_loss, train_acc = 0, 0 

    # Put model in trainig mode 
    model.eval()

    with torch.inference_mode(): 
        # Add a loop to loop throught the training batches
        for batch, (X, y) in enumerate(data_loader):
            # Put data in the target device 
            X, y = X.to(device), y.to(device)
    
            # 1. Forward pass
            test_pred = model(X) 
    
            # 2. Calculate loss per batch
            test_loss += loss_fn(y_pred, y)
            test_acc += accuracy_fn(y, y_pred.argmax(dim=1))

        # calculate the train loss and train acc average per batch
        train_loss /= len(data_loader)
        train_acc /= len(data_loader)
        
    print(f"Test Loss: {test_loss:.5f} | Train Acc: {test_acc:.2f}%")




