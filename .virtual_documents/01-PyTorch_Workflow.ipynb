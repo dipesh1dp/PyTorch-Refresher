








import torch 
from torch import nn
import matplotlib.pyplot as plt 








# create known parameters 
weight = 0.8
bias = 0.3

X = torch.arange(start=0, end=1, step=0.02).unsqueeze(dim=1)
y = weight*X + bias
X[:10,], y[:10]


len(X), len(y)





train_split = int(0.8*len(X))

X_train, y_train = X[:train_split], y[:train_split]
X_test, y_test = X[train_split:], y[train_split:]

len(X_train), len(y_train), len(X_test), len(y_test)





def plot_predictions(train_data = X_train,
                     train_label = y_train,
                     test_data = X_test,
                     test_label = y_test,
                     predictions = None):
    """
    plots the training, test data and compare predictions.
    """
    plt.figure(figsize=(9,6))
  
    # Plot training data in blue
    plt.scatter(train_data, train_label, color='b', s=4, label='Training Data')
    
    # Plot the test data in green
    plt.scatter(test_data, test_label, color='g', s=4, label='Test Data')

    # Plot predictions if they exist
    if predictions is not None:
        plt.scatter(test_data, predictions, color='r', s=4, label='Predictions')

    # Show the legend
    plt.legend(prop={'size': 14})


plot_predictions()









